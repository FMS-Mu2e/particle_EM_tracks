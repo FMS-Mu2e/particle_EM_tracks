{
 "cells": [
  {
   "cell_type": "code",
   "execution_count": 22,
   "metadata": {},
   "outputs": [],
   "source": [
    "# import package\n",
    "# installed via pip\n",
    "from emtracks.particle import trajectory_solver # main solver object\n",
    "from emtracks.conversions import one_gev_c2_to_kg # conversion for q factor (transverse momentum estimate)\n",
    "from emtracks.tools import *#InitConds # initial conditions namedtuple\n",
    "from emtracks.mapinterp import get_df_interp_func  # factory function for creating Mu2e DS interpolation function\n",
    "from emtracks.Bdist import get_B_df_distorted\n",
    "from emtracks.interpolations import *\n",
    "import matplotlib.animation as animation\n",
    "import numpy as np\n",
    "from scipy.constants import c, elementary_charge\n",
    "import pandas as pd\n",
    "import pickle as pkl\n",
    "import matplotlib.mlab as mlab\n",
    "import matplotlib.pyplot as plt\n",
    "import math\n",
    "from mpl_toolkits.mplot3d import Axes3D\n",
    "plt.rcParams['figure.figsize'] = [24,16] # bigger figures\n",
    "from matplotlib import style\n",
    "style.use('fivethirtyeight')\n",
    "import os\n",
    "\n",
    "from joblib import Parallel, delayed\n",
    "import multiprocessing\n",
    "from tqdm.notebook import tqdm\n",
    "\n",
    "testdir = \"/home/darren/Desktop/plots/\"\n",
    "datadir = \"/home/shared_data/\"\n",
    "plotdir = datadir+\"plots/randomphi/\"\n",
    "mapdir = datadir+\"Bmaps/\"\n",
    "date = \"/7-9/\"\n",
    "newdir = datadir+'testmao/'\n",
    "\n",
    "maomapdir = '/home/shared_data/Bmaps/Mau10/combined/'"
   ]
  },
  {
   "cell_type": "code",
   "execution_count": 23,
   "metadata": {},
   "outputs": [],
   "source": [
    "def get_uniform_phi(N):\n",
    "    phis = np.linspace(0, 2*math.pi, N)\n",
    "    return phis\n",
    "\n",
    "def get_uniform_theta(N):\n",
    "    thetas = np.linspace(0, math.pi, N)\n",
    "    return thetas\n",
    "\n",
    "files = sorted(os.listdir(maomapdir)) [:11]"
   ]
  },
  {
   "cell_type": "code",
   "execution_count": 24,
   "metadata": {},
   "outputs": [],
   "source": [
    "def get_funcs(files): \n",
    "    #nominal field\n",
    "    df_Mu2e = pd.read_pickle(mapdir+\"Mu2e_DSMap_V13.p\")\n",
    "    B_Mu2e_func = get_df_interp_func(mapdir+\"Mu2e_DSMap_V13.p\", gauss=False)\n",
    "    data = {'nom':B_Mu2e_func}\n",
    "    #new field\n",
    "    for file in files:\n",
    "        param = file.split('x')[1].split('_')[1]\n",
    "        with open(maomapdir+'/'+file, 'rb') as pickle_file:\n",
    "            data.update({param:get_df_interp_func(df = pkl.load(pickle_file), gauss=False)})\n",
    "    return data"
   ]
  },
  {
   "cell_type": "code",
   "execution_count": 25,
   "metadata": {},
   "outputs": [],
   "source": [
    "def run_solver(phi, theta, field, fielddescrip, N_calc, xnaught, ynaught, znaught, name):\n",
    "    ic_Mu2e = InitConds(t0=0., tf=4e-8, N_t=N_calc,\n",
    "                    x0=xnaught, y0=ynaught, z0=znaught,\n",
    "                    p0=104.96, theta0=theta, phi0=phi)\n",
    "    e_solver = trajectory_solver(ic_Mu2e, B_func=field, bounds=bounds_Mu2e)\n",
    "    sol = e_solver.solve_trajectory(verbose = False, atol=1e-10, rtol=1e-10)\n",
    "    e_solver.dataframe['r'] = ((e_solver.dataframe['x'])**2 + (e_solver.dataframe['y'])**2)**(1/2)\n",
    "    e_solver.dataframe['rfromcenter'] = ((e_solver.dataframe['x'])**2 + (e_solver.dataframe['y'])**2)**(1/2)\n",
    "    filename = f'{fielddescrip}_{ic_Mu2e.theta0:0.3f}_{ic_Mu2e.phi0:0.3f}_{ic_Mu2e.x0:0.3f}_{name}.pkl'\n",
    "    e_solver.to_pickle(newdir+filename)   "
   ]
  },
  {
   "cell_type": "code",
   "execution_count": 26,
   "metadata": {},
   "outputs": [],
   "source": [
    "def runbothsolvers(phi, theta, fielddata, N_calc, xnaught, ynaught, znaught):\n",
    "    keys = list(fielddata.keys())\n",
    "    values = list(fielddata.values())\n",
    "    \n",
    "    run_solver(phi, theta, values[0], str(keys[0]), N_calc, xnaught, ynaught, znaught, 'nom')\n",
    "        \n",
    "    for i in range(1, len(keys), 1):\n",
    "        run_solver(phi, theta, values[i], str(keys[i]), N_calc, xnaught, ynaught, znaught, 'dis')"
   ]
  },
  {
   "cell_type": "code",
   "execution_count": 27,
   "metadata": {},
   "outputs": [],
   "source": [
    "def savepickle(N, files, ncalc = 20001):\n",
    "    phis = get_uniform_phi(N)\n",
    "    thetas = get_uniform_theta(N)\n",
    "    data = get_funcs(files)\n",
    "    \n",
    "    numcpu = multiprocessing.cpu_count()\n",
    "    Parallel(n_jobs = numcpu)(delayed(runbothsolvers)(phi, theta, data, ncalc, 0.054094482, 0.03873037, 5.988900879) for theta in tqdm(thetas[:3], desc = 'theta') for phi in phis[:3\n",
    "    ])\n"
   ]
  },
  {
   "cell_type": "code",
   "execution_count": 28,
   "metadata": {},
   "outputs": [
    {
     "data": {
      "application/vnd.jupyter.widget-view+json": {
       "model_id": "2c6c7e1c4de04ca29e029197a13828f2",
       "version_major": 2,
       "version_minor": 0
      },
      "text/plain": [
       "HBox(children=(FloatProgress(value=0.0, description='theta', max=3.0, style=ProgressStyle(description_width='i…"
      ]
     },
     "metadata": {},
     "output_type": "display_data"
    },
    {
     "name": "stdout",
     "output_type": "stream",
     "text": [
      "\n"
     ]
    }
   ],
   "source": [
    "savepickle(3, files)"
   ]
  },
  {
   "cell_type": "code",
   "execution_count": 8,
   "metadata": {},
   "outputs": [],
   "source": [
    "cpu_count = multiprocessing.cpu_count()"
   ]
  },
  {
   "cell_type": "code",
   "execution_count": 14,
   "metadata": {},
   "outputs": [],
   "source": [
    "files = sorted(os.listdir(newdir))\n",
    "e_solvernom = trajectory_solver.from_pickle(newdir+files[0])\n",
    "f = interp_cole(e_solvernom.dataframe, 13)"
   ]
  },
  {
   "cell_type": "code",
   "execution_count": 17,
   "metadata": {},
   "outputs": [
    {
     "data": {
      "text/plain": [
       "108"
      ]
     },
     "execution_count": 17,
     "metadata": {},
     "output_type": "execute_result"
    }
   ],
   "source": [
    "len(files)"
   ]
  },
  {
   "cell_type": "code",
   "execution_count": 19,
   "metadata": {},
   "outputs": [
    {
     "name": "stdout",
     "output_type": "stream",
     "text": [
      "0.00\n",
      "0.00\n",
      "0.00\n",
      "0.00\n",
      "0.00\n",
      "0.00\n",
      "0.00\n",
      "0.00\n",
      "0.00\n",
      "0.10\n",
      "0.10\n",
      "0.10\n",
      "0.10\n",
      "0.10\n",
      "0.10\n",
      "0.10\n",
      "0.10\n",
      "0.10\n",
      "0.20\n",
      "0.20\n",
      "0.20\n",
      "0.20\n",
      "0.20\n",
      "0.20\n",
      "0.20\n",
      "0.20\n",
      "0.20\n",
      "0.30\n",
      "0.30\n",
      "0.30\n",
      "0.30\n",
      "0.30\n",
      "0.30\n",
      "0.30\n",
      "0.30\n",
      "0.30\n",
      "0.40\n",
      "0.40\n",
      "0.40\n",
      "0.40\n",
      "0.40\n",
      "0.40\n",
      "0.40\n",
      "0.40\n",
      "0.40\n",
      "0.50\n",
      "0.50\n",
      "0.50\n",
      "0.50\n",
      "0.50\n",
      "0.50\n",
      "0.50\n",
      "0.50\n",
      "0.50\n",
      "0.60\n",
      "0.60\n",
      "0.60\n",
      "0.60\n",
      "0.60\n",
      "0.60\n",
      "0.60\n",
      "0.60\n",
      "0.60\n",
      "0.70\n",
      "0.70\n",
      "0.70\n",
      "0.70\n",
      "0.70\n",
      "0.70\n",
      "0.70\n",
      "0.70\n",
      "0.70\n",
      "0.80\n",
      "0.80\n",
      "0.80\n",
      "0.80\n",
      "0.80\n",
      "0.80\n",
      "0.80\n",
      "0.80\n",
      "0.80\n",
      "0.90\n",
      "0.90\n",
      "0.90\n",
      "0.90\n",
      "0.90\n",
      "0.90\n",
      "0.90\n",
      "0.90\n",
      "0.90\n",
      "1.00\n",
      "1.00\n",
      "1.00\n",
      "1.00\n",
      "1.00\n",
      "1.00\n",
      "1.00\n",
      "1.00\n",
      "1.00\n",
      "nom\n",
      "nom\n",
      "nom\n",
      "nom\n",
      "nom\n",
      "nom\n",
      "nom\n",
      "nom\n",
      "nom\n"
     ]
    }
   ],
   "source": [
    "for file in files:\n",
    "    name = file.split('_')[0]\n",
    "    print(name)"
   ]
  },
  {
   "cell_type": "code",
   "execution_count": null,
   "metadata": {},
   "outputs": [],
   "source": []
  }
 ],
 "metadata": {
  "kernelspec": {
   "display_name": "Python 3",
   "language": "python",
   "name": "python3"
  },
  "language_info": {
   "codemirror_mode": {
    "name": "ipython",
    "version": 3
   },
   "file_extension": ".py",
   "mimetype": "text/x-python",
   "name": "python",
   "nbconvert_exporter": "python",
   "pygments_lexer": "ipython3",
   "version": "3.8.3"
  }
 },
 "nbformat": 4,
 "nbformat_minor": 4
}

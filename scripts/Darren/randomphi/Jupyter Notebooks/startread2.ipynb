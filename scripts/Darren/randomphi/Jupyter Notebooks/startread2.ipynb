{
 "cells": [
  {
   "cell_type": "code",
   "execution_count": 1,
   "metadata": {},
   "outputs": [],
   "source": [
    "#start with: folder with mag field\n",
    "#- 10 folder with phi values - 10 folder x0 - 100 w/ theta value"
   ]
  },
  {
   "cell_type": "code",
   "execution_count": 5,
   "metadata": {},
   "outputs": [],
   "source": [
    "import numpy as np\n",
    "from scipy.constants import c, elementary_charge\n",
    "import pandas as pd\n",
    "import pickle as pkl\n",
    "import matplotlib.mlab as mlab\n",
    "import matplotlib.pyplot as plt\n",
    "import math\n",
    "from mpl_toolkits.mplot3d import Axes3D\n",
    "plt.rcParams['figure.figsize'] = [24,16] # bigger figures\n",
    "from matplotlib import style\n",
    "style.use('fivethirtyeight')\n",
    "from emtracks.particle import trajectory_solver # main solver object\n",
    "from emtracks.conversions import one_gev_c2_to_kg # conversion for q factor (transverse momentum estimate)\n",
    "from emtracks.tools import *#InitConds # initial conditions namedtuple\n",
    "from emtracks.mapinterp import get_df_interp_func  # factory function for creating Mu2e DS interpolation function\n",
    "from emtracks.Bdist import get_B_df_distorted\n",
    "import matplotlib.animation as animation\n",
    "import os\n",
    "\n",
    "testdir = \"/home/darren/Desktop/plots/\"\n",
    "datadir = \"/home/shared_data/\"\n",
    "plotdir = datadir+\"plots/randomphi/\"\n",
    "mapdir = datadir+\"Bmaps/\"\n",
    "date = \"/6-20/\"\n",
    "\n",
    "\n",
    "newdir = datadir+'testdir'"
   ]
  },
  {
   "cell_type": "code",
   "execution_count": 13,
   "metadata": {},
   "outputs": [],
   "source": [
    "#input N, return N equally spaced values between 0 and 2pi\n",
    "def get_uniform_phi(N):\n",
    "    phis = np.linspace(0, 2*math.pi, N)\n",
    "    return phis\n",
    "def get_uniform_theta(N):\n",
    "    thetas = np.linspace(0, math.pi, N)\n",
    "    return thetas\n",
    "\n",
    "start_point = 3\n",
    "end_point = 14\n",
    "initial_B = 50 #(rougly 1% distortion at z = 3.0, 0% at z = 14)\n",
    "final_B = 0\n",
    "\n",
    "df_Mu2e = pd.read_pickle(mapdir+\"Mu2e_DSMap_V13.p\")\n",
    "B_Mu2e_func = get_df_interp_func(mapdir+\"Mu2e_DSMap_V13.p\", gauss=False)\n",
    "\n",
    "df_Mu2e_dis = get_B_df_distorted(df_Mu2e, v=\"0\", Bz0 = initial_B, Bzf = 0, z0 = start_point, zf = end_point)\n",
    "B_Mu2e_dis = get_df_interp_func(df=df_Mu2e_dis, gauss=False)\n",
    "\n",
    "def run_solver(phi, theta, N_calc, field, xnaught, ynaught, znaught, name):\n",
    "    ic_Mu2e = InitConds(t0=0., tf=4e-8, N_t=N_calc,\n",
    "                    x0=xnaught, y0=ynaught, z0=znaught,\n",
    "                    p0=104.96, theta0=theta, phi0=phi)\n",
    "    e_solver = trajectory_solver(ic_Mu2e, B_func=field, bounds=bounds_Mu2e)\n",
    "    sol = e_solver.solve_trajectory(verbose = False, atol=1e-10, rtol=1e-10) # high tolerance so it runs quickly for testing\n",
    "    e_solver.dataframe['r'] = ((e_solver.dataframe['x'])**2 + (e_solver.dataframe['y'])**2)**(1/2)\n",
    "    e_solver.to_pickle(datadir+f'50_Gauss_z_3-14/{phi}_{name}.pkl')\n",
    "    \n",
    "    return e_solver.dataframe\n",
    "\n",
    "def savefiles(nphis, nthetas, x0s, N_calc): #x0s is an array of x0s u want\n",
    "    phis = get_uniform_phi(nphis)\n",
    "    thetas = get_uniform_theta(nthetas)\n",
    "    nx0s = len(x0s)\n",
    "    \n",
    "    for i in phis:\n",
    "        os.makedirs(newdir+f'/{i}')\n",
    "        for j in thetas:\n",
    "            os.makedirs(newdir+f'/{j}')\n",
    "            for k in x0s:\n",
    "                run_solver(i, j, n_calc, k, ynaught, znaught, 'nom')\n",
    "                run_solver(i, j, n_calc, k, ynaught, znaught, 'dis')\n",
    "                \n",
    "                \n",
    "\n"
   ]
  },
  {
   "cell_type": "code",
   "execution_count": 14,
   "metadata": {},
   "outputs": [
    {
     "ename": "FileExistsError",
     "evalue": "[Errno 17] File exists: '/home/shared_data/testdir/0.0'",
     "output_type": "error",
     "traceback": [
      "\u001b[0;31m---------------------------------------------------------------------------\u001b[0m",
      "\u001b[0;31mFileExistsError\u001b[0m                           Traceback (most recent call last)",
      "\u001b[0;32m<ipython-input-14-65aa556f7760>\u001b[0m in \u001b[0;36m<module>\u001b[0;34m\u001b[0m\n\u001b[0;32m----> 1\u001b[0;31m \u001b[0msavefiles\u001b[0m\u001b[0;34m(\u001b[0m\u001b[0;36m2\u001b[0m\u001b[0;34m,\u001b[0m \u001b[0;36m2\u001b[0m\u001b[0;34m,\u001b[0m \u001b[0;34m[\u001b[0m\u001b[0;36m0.0\u001b[0m\u001b[0;34m,\u001b[0m \u001b[0;36m0.5\u001b[0m\u001b[0;34m]\u001b[0m\u001b[0;34m,\u001b[0m \u001b[0;36m2000\u001b[0m\u001b[0;34m)\u001b[0m\u001b[0;34m\u001b[0m\u001b[0;34m\u001b[0m\u001b[0m\n\u001b[0m",
      "\u001b[0;32m<ipython-input-13-f2b87ee70459>\u001b[0m in \u001b[0;36msavefiles\u001b[0;34m(nphis, nthetas, x0s, N_calc)\u001b[0m\n\u001b[1;32m     37\u001b[0m         \u001b[0mos\u001b[0m\u001b[0;34m.\u001b[0m\u001b[0mmakedirs\u001b[0m\u001b[0;34m(\u001b[0m\u001b[0mnewdir\u001b[0m\u001b[0;34m+\u001b[0m\u001b[0;34mf'/{i}'\u001b[0m\u001b[0;34m)\u001b[0m\u001b[0;34m\u001b[0m\u001b[0;34m\u001b[0m\u001b[0m\n\u001b[1;32m     38\u001b[0m         \u001b[0;32mfor\u001b[0m \u001b[0mj\u001b[0m \u001b[0;32min\u001b[0m \u001b[0mthetas\u001b[0m\u001b[0;34m:\u001b[0m\u001b[0;34m\u001b[0m\u001b[0;34m\u001b[0m\u001b[0m\n\u001b[0;32m---> 39\u001b[0;31m             \u001b[0mos\u001b[0m\u001b[0;34m.\u001b[0m\u001b[0mmakedirs\u001b[0m\u001b[0;34m(\u001b[0m\u001b[0mnewdir\u001b[0m\u001b[0;34m+\u001b[0m\u001b[0;34mf'/{j}'\u001b[0m\u001b[0;34m)\u001b[0m\u001b[0;34m\u001b[0m\u001b[0;34m\u001b[0m\u001b[0m\n\u001b[0m\u001b[1;32m     40\u001b[0m             \u001b[0;32mfor\u001b[0m \u001b[0mk\u001b[0m \u001b[0;32min\u001b[0m \u001b[0mx0s\u001b[0m\u001b[0;34m:\u001b[0m\u001b[0;34m\u001b[0m\u001b[0;34m\u001b[0m\u001b[0m\n\u001b[1;32m     41\u001b[0m                 \u001b[0mrun_solver\u001b[0m\u001b[0;34m(\u001b[0m\u001b[0mi\u001b[0m\u001b[0;34m,\u001b[0m \u001b[0mj\u001b[0m\u001b[0;34m,\u001b[0m \u001b[0mn_calc\u001b[0m\u001b[0;34m,\u001b[0m \u001b[0mk\u001b[0m\u001b[0;34m,\u001b[0m \u001b[0mynaught\u001b[0m\u001b[0;34m,\u001b[0m \u001b[0mznaught\u001b[0m\u001b[0;34m,\u001b[0m \u001b[0;34m'nom'\u001b[0m\u001b[0;34m)\u001b[0m\u001b[0;34m\u001b[0m\u001b[0;34m\u001b[0m\u001b[0m\n",
      "\u001b[0;32m~/anaconda3/envs/em_track/lib/python3.6/os.py\u001b[0m in \u001b[0;36mmakedirs\u001b[0;34m(name, mode, exist_ok)\u001b[0m\n\u001b[1;32m    218\u001b[0m             \u001b[0;32mreturn\u001b[0m\u001b[0;34m\u001b[0m\u001b[0;34m\u001b[0m\u001b[0m\n\u001b[1;32m    219\u001b[0m     \u001b[0;32mtry\u001b[0m\u001b[0;34m:\u001b[0m\u001b[0;34m\u001b[0m\u001b[0;34m\u001b[0m\u001b[0m\n\u001b[0;32m--> 220\u001b[0;31m         \u001b[0mmkdir\u001b[0m\u001b[0;34m(\u001b[0m\u001b[0mname\u001b[0m\u001b[0;34m,\u001b[0m \u001b[0mmode\u001b[0m\u001b[0;34m)\u001b[0m\u001b[0;34m\u001b[0m\u001b[0;34m\u001b[0m\u001b[0m\n\u001b[0m\u001b[1;32m    221\u001b[0m     \u001b[0;32mexcept\u001b[0m \u001b[0mOSError\u001b[0m\u001b[0;34m:\u001b[0m\u001b[0;34m\u001b[0m\u001b[0;34m\u001b[0m\u001b[0m\n\u001b[1;32m    222\u001b[0m         \u001b[0;31m# Cannot rely on checking for EEXIST, since the operating system\u001b[0m\u001b[0;34m\u001b[0m\u001b[0;34m\u001b[0m\u001b[0;34m\u001b[0m\u001b[0m\n",
      "\u001b[0;31mFileExistsError\u001b[0m: [Errno 17] File exists: '/home/shared_data/testdir/0.0'"
     ]
    }
   ],
   "source": [
    "savefiles(2, 2, [0.0, 0.5], 2000)"
   ]
  },
  {
   "cell_type": "code",
   "execution_count": null,
   "metadata": {},
   "outputs": [],
   "source": [
    "#folder with bfield, x folders for phi values, 10 files in each folder with theta values\n",
    "def readpickle(x, y):\n",
    "    for phi in range(0, x, 1):\n",
    "        for theta in range(0, y, 1):\n",
    "            \n",
    "        \n",
    "    files = sorted(os.listdir(newdir))\n",
    "    files[0], files[1], files[2], files[3] = files[2], files[3], files[0], files[1]\n",
    "\n",
    "    phinom = []\n",
    "    phidis = []\n",
    "    nomdata = []\n",
    "    disdata = []\n",
    "\n",
    "    nom = {}\n",
    "    dis = {}\n",
    "\n",
    "    for file in files:\n",
    "        if file.endswith('nom.pkl'):\n",
    "            e_solvernom = trajectory_solver.from_pickle(newdir+'/'+file)\n",
    "            phinom.append(e_solvernom.init_conds.phi0)\n",
    "            nomdata.append(e_solvernom.dataframe)\n",
    "            #nom.update({str(e_solvernom.init_conds.phi0), e_solvernom.dataframe})\n",
    "            \n",
    "        if file.endswith('dis.pkl'):\n",
    "            e_solverdis = trajectory_solver.from_pickle(newdir+'/'+file)\n",
    "            phidis.append(e_solverdis.init_conds.phi0)\n",
    "            disdata.append(e_solverdis.dataframe)\n",
    "            #dis.update({str(e_solverdis.init_conds.phi0), e_solverdis.dataframe})\n",
    "    if phinom == phidis:\n",
    "        for i in range(0, len(phinom), 1):\n",
    "            nom.update({phinom[i]:nomdata[i]})\n",
    "            dis.update({phidis[i]:disdata[i]})\n",
    "            \n",
    "    if phinom == phidis:\n",
    "        return nom, dis, phinom, len(phinom)"
   ]
  }
 ],
 "metadata": {
  "kernelspec": {
   "display_name": "Python [conda env:em_track]",
   "language": "python",
   "name": "conda-env-em_track-py"
  },
  "language_info": {
   "codemirror_mode": {
    "name": "ipython",
    "version": 3
   },
   "file_extension": ".py",
   "mimetype": "text/x-python",
   "name": "python",
   "nbconvert_exporter": "python",
   "pygments_lexer": "ipython3",
   "version": "3.6.10"
  }
 },
 "nbformat": 4,
 "nbformat_minor": 4
}

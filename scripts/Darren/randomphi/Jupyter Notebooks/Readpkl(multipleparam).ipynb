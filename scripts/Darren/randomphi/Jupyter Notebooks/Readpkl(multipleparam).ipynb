{
 "cells": [
  {
   "cell_type": "code",
   "execution_count": 1,
   "metadata": {},
   "outputs": [
    {
     "name": "stdout",
     "output_type": "stream",
     "text": [
      "ERROR! Please set $EMTRACKS_DDIR and $EMTRACKS_PDIR. Setting defaults (current directory)\n"
     ]
    }
   ],
   "source": [
    "# import package\n",
    "# installed via pip\n",
    "from emtracks.particle import trajectory_solver # main solver object\n",
    "from emtracks.conversions import one_gev_c2_to_kg # conversion for q factor (transverse momentum estimate)\n",
    "from emtracks.tools import *#InitConds # initial conditions namedtuple\n",
    "from emtracks.mapinterp import get_df_interp_func  # factory function for creating Mu2e DS interpolation function\n",
    "from emtracks.Bdist import get_B_df_distorted\n",
    "from emtracks.interpolations import *\n",
    "import matplotlib.animation as animation\n",
    "import numpy as np\n",
    "from scipy.constants import c, elementary_charge\n",
    "import pandas as pd\n",
    "import pickle as pkl\n",
    "import matplotlib.mlab as mlab\n",
    "import matplotlib.pyplot as plt\n",
    "import math\n",
    "from mpl_toolkits.mplot3d import Axes3D\n",
    "plt.rcParams['figure.figsize'] = [24,16] # bigger figures\n",
    "from matplotlib import style\n",
    "style.use('fivethirtyeight')\n",
    "import os\n",
    "\n",
    "testdir = \"/home/darren/Desktop/plots/\"\n",
    "datadir = \"/home/shared_data/\"\n",
    "plotdir = datadir+\"plots/randomphi/\"\n",
    "mapdir = datadir+\"Bmaps/\"\n",
    "date = \"/7-9/\"\n",
    "newdir = datadir+'test4/'\n",
    "%matplotlib notebook"
   ]
  },
  {
   "cell_type": "code",
   "execution_count": 2,
   "metadata": {},
   "outputs": [
    {
     "ename": "TypeError",
     "evalue": "an integer is required (got type bytes)",
     "output_type": "error",
     "traceback": [
      "\u001b[0;31m---------------------------------------------------------------------------\u001b[0m",
      "\u001b[0;31mTypeError\u001b[0m                                 Traceback (most recent call last)",
      "\u001b[0;32m<ipython-input-2-6fd40709b11c>\u001b[0m in \u001b[0;36m<module>\u001b[0;34m\u001b[0m\n\u001b[1;32m      1\u001b[0m \u001b[0mfiles\u001b[0m \u001b[0;34m=\u001b[0m \u001b[0msorted\u001b[0m\u001b[0;34m(\u001b[0m\u001b[0mos\u001b[0m\u001b[0;34m.\u001b[0m\u001b[0mlistdir\u001b[0m\u001b[0;34m(\u001b[0m\u001b[0mnewdir\u001b[0m\u001b[0;34m)\u001b[0m\u001b[0;34m)\u001b[0m\u001b[0;34m\u001b[0m\u001b[0;34m\u001b[0m\u001b[0m\n\u001b[0;32m----> 2\u001b[0;31m \u001b[0me_solvernom\u001b[0m \u001b[0;34m=\u001b[0m \u001b[0mtrajectory_solver\u001b[0m\u001b[0;34m.\u001b[0m\u001b[0mfrom_pickle\u001b[0m\u001b[0;34m(\u001b[0m\u001b[0mnewdir\u001b[0m\u001b[0;34m+\u001b[0m\u001b[0mfiles\u001b[0m\u001b[0;34m[\u001b[0m\u001b[0;36m0\u001b[0m\u001b[0;34m]\u001b[0m\u001b[0;34m)\u001b[0m\u001b[0;34m\u001b[0m\u001b[0;34m\u001b[0m\u001b[0m\n\u001b[0m\u001b[1;32m      3\u001b[0m \u001b[0mf\u001b[0m \u001b[0;34m=\u001b[0m \u001b[0minterp_cole\u001b[0m\u001b[0;34m(\u001b[0m\u001b[0me_solvernom\u001b[0m\u001b[0;34m.\u001b[0m\u001b[0mdataframe\u001b[0m\u001b[0;34m,\u001b[0m \u001b[0;36m13\u001b[0m\u001b[0;34m)\u001b[0m\u001b[0;34m\u001b[0m\u001b[0;34m\u001b[0m\u001b[0m\n\u001b[1;32m      4\u001b[0m \u001b[0me\u001b[0m \u001b[0;34m=\u001b[0m \u001b[0;36m10\u001b[0m\u001b[0;34m\u001b[0m\u001b[0;34m\u001b[0m\u001b[0m\n",
      "\u001b[0;32m~/Desktop/particle_EM_tracks/emtracks/particle.py\u001b[0m in \u001b[0;36mfrom_pickle\u001b[0;34m(cls, filename)\u001b[0m\n\u001b[1;32m     45\u001b[0m     \u001b[0;34m@\u001b[0m\u001b[0mclassmethod\u001b[0m\u001b[0;34m\u001b[0m\u001b[0;34m\u001b[0m\u001b[0m\n\u001b[1;32m     46\u001b[0m     \u001b[0;32mdef\u001b[0m \u001b[0mfrom_pickle\u001b[0m\u001b[0;34m(\u001b[0m\u001b[0mcls\u001b[0m\u001b[0;34m,\u001b[0m \u001b[0mfilename\u001b[0m\u001b[0;34m)\u001b[0m\u001b[0;34m:\u001b[0m\u001b[0;34m\u001b[0m\u001b[0;34m\u001b[0m\u001b[0m\n\u001b[0;32m---> 47\u001b[0;31m         \u001b[0;32mreturn\u001b[0m \u001b[0mpkl\u001b[0m\u001b[0;34m.\u001b[0m\u001b[0mload\u001b[0m\u001b[0;34m(\u001b[0m\u001b[0mopen\u001b[0m\u001b[0;34m(\u001b[0m\u001b[0mfilename\u001b[0m\u001b[0;34m,\u001b[0m \u001b[0;34m\"rb\"\u001b[0m\u001b[0;34m)\u001b[0m\u001b[0;34m)\u001b[0m\u001b[0;34m\u001b[0m\u001b[0;34m\u001b[0m\u001b[0m\n\u001b[0m\u001b[1;32m     48\u001b[0m \u001b[0;34m\u001b[0m\u001b[0m\n\u001b[1;32m     49\u001b[0m     \u001b[0;32mdef\u001b[0m \u001b[0mto_pickle\u001b[0m\u001b[0;34m(\u001b[0m\u001b[0mself\u001b[0m\u001b[0;34m,\u001b[0m \u001b[0mfilename\u001b[0m\u001b[0;34m)\u001b[0m\u001b[0;34m:\u001b[0m\u001b[0;34m\u001b[0m\u001b[0;34m\u001b[0m\u001b[0m\n",
      "\u001b[0;32m~/anaconda3/envs/em_track/lib/python3.8/site-packages/dill/_dill.py\u001b[0m in \u001b[0;36mload\u001b[0;34m(file, ignore, **kwds)\u001b[0m\n\u001b[1;32m    268\u001b[0m \u001b[0;32mdef\u001b[0m \u001b[0mload\u001b[0m\u001b[0;34m(\u001b[0m\u001b[0mfile\u001b[0m\u001b[0;34m,\u001b[0m \u001b[0mignore\u001b[0m\u001b[0;34m=\u001b[0m\u001b[0;32mNone\u001b[0m\u001b[0;34m,\u001b[0m \u001b[0;34m**\u001b[0m\u001b[0mkwds\u001b[0m\u001b[0;34m)\u001b[0m\u001b[0;34m:\u001b[0m\u001b[0;34m\u001b[0m\u001b[0;34m\u001b[0m\u001b[0m\n\u001b[1;32m    269\u001b[0m     \u001b[0;34m\"\"\"unpickle an object from a file\"\"\"\u001b[0m\u001b[0;34m\u001b[0m\u001b[0;34m\u001b[0m\u001b[0m\n\u001b[0;32m--> 270\u001b[0;31m     \u001b[0;32mreturn\u001b[0m \u001b[0mUnpickler\u001b[0m\u001b[0;34m(\u001b[0m\u001b[0mfile\u001b[0m\u001b[0;34m,\u001b[0m \u001b[0mignore\u001b[0m\u001b[0;34m=\u001b[0m\u001b[0mignore\u001b[0m\u001b[0;34m,\u001b[0m \u001b[0;34m**\u001b[0m\u001b[0mkwds\u001b[0m\u001b[0;34m)\u001b[0m\u001b[0;34m.\u001b[0m\u001b[0mload\u001b[0m\u001b[0;34m(\u001b[0m\u001b[0;34m)\u001b[0m\u001b[0;34m\u001b[0m\u001b[0;34m\u001b[0m\u001b[0m\n\u001b[0m\u001b[1;32m    271\u001b[0m \u001b[0;34m\u001b[0m\u001b[0m\n\u001b[1;32m    272\u001b[0m \u001b[0;32mdef\u001b[0m \u001b[0mloads\u001b[0m\u001b[0;34m(\u001b[0m\u001b[0mstr\u001b[0m\u001b[0;34m,\u001b[0m \u001b[0mignore\u001b[0m\u001b[0;34m=\u001b[0m\u001b[0;32mNone\u001b[0m\u001b[0;34m,\u001b[0m \u001b[0;34m**\u001b[0m\u001b[0mkwds\u001b[0m\u001b[0;34m)\u001b[0m\u001b[0;34m:\u001b[0m\u001b[0;34m\u001b[0m\u001b[0;34m\u001b[0m\u001b[0m\n",
      "\u001b[0;32m~/anaconda3/envs/em_track/lib/python3.8/site-packages/dill/_dill.py\u001b[0m in \u001b[0;36mload\u001b[0;34m(self)\u001b[0m\n\u001b[1;32m    471\u001b[0m \u001b[0;34m\u001b[0m\u001b[0m\n\u001b[1;32m    472\u001b[0m     \u001b[0;32mdef\u001b[0m \u001b[0mload\u001b[0m\u001b[0;34m(\u001b[0m\u001b[0mself\u001b[0m\u001b[0;34m)\u001b[0m\u001b[0;34m:\u001b[0m \u001b[0;31m#NOTE: if settings change, need to update attributes\u001b[0m\u001b[0;34m\u001b[0m\u001b[0;34m\u001b[0m\u001b[0m\n\u001b[0;32m--> 473\u001b[0;31m         \u001b[0mobj\u001b[0m \u001b[0;34m=\u001b[0m \u001b[0mStockUnpickler\u001b[0m\u001b[0;34m.\u001b[0m\u001b[0mload\u001b[0m\u001b[0;34m(\u001b[0m\u001b[0mself\u001b[0m\u001b[0;34m)\u001b[0m\u001b[0;34m\u001b[0m\u001b[0;34m\u001b[0m\u001b[0m\n\u001b[0m\u001b[1;32m    474\u001b[0m         \u001b[0;32mif\u001b[0m \u001b[0mtype\u001b[0m\u001b[0;34m(\u001b[0m\u001b[0mobj\u001b[0m\u001b[0;34m)\u001b[0m\u001b[0;34m.\u001b[0m\u001b[0m__module__\u001b[0m \u001b[0;34m==\u001b[0m \u001b[0mgetattr\u001b[0m\u001b[0;34m(\u001b[0m\u001b[0m_main_module\u001b[0m\u001b[0;34m,\u001b[0m \u001b[0;34m'__name__'\u001b[0m\u001b[0;34m,\u001b[0m \u001b[0;34m'__main__'\u001b[0m\u001b[0;34m)\u001b[0m\u001b[0;34m:\u001b[0m\u001b[0;34m\u001b[0m\u001b[0;34m\u001b[0m\u001b[0m\n\u001b[1;32m    475\u001b[0m             \u001b[0;32mif\u001b[0m \u001b[0;32mnot\u001b[0m \u001b[0mself\u001b[0m\u001b[0;34m.\u001b[0m\u001b[0m_ignore\u001b[0m\u001b[0;34m:\u001b[0m\u001b[0;34m\u001b[0m\u001b[0;34m\u001b[0m\u001b[0m\n",
      "\u001b[0;31mTypeError\u001b[0m: an integer is required (got type bytes)"
     ]
    }
   ],
   "source": [
    "files = sorted(os.listdir(newdir))\n",
    "e_solvernom = trajectory_solver.from_pickle(newdir+files[0])\n",
    "f = interp_cole(e_solvernom.dataframe, 13)\n",
    "e = 10"
   ]
  },
  {
   "cell_type": "code",
   "execution_count": null,
   "metadata": {},
   "outputs": [],
   "source": [
    "def readpkl(zstart, zend, numpoints):\n",
    "    files = sorted(os.listdir(newdir))\n",
    "    zsteps = np.linspace(zstart, zend, numpoints)\n",
    "    data = []\n",
    "\n",
    "    for file in files:\n",
    "        x = file.split('_')\n",
    "        field = float(x[0])\n",
    "        name = x[4][:3]\n",
    "        e_solvernom = trajectory_solver.from_pickle(newdir+file)\n",
    "        phi = e_solvernom.init_conds.phi0\n",
    "        theta = e_solvernom.init_conds.theta0\n",
    "        for z in zsteps:\n",
    "            info = interp_cole(e_solvernom.dataframe, z)\n",
    "            x = info[1]\n",
    "            y = info[2]\n",
    "            r = tuple([(x**2 + y**2)**(1/2)])\n",
    "\n",
    "            tuple1 = (z, field, theta, phi, name)\n",
    "            data.append(tuple1 + info + r)\n",
    "            \n",
    "    return data "
   ]
  },
  {
   "cell_type": "code",
   "execution_count": null,
   "metadata": {},
   "outputs": [],
   "source": [
    "x = readpkl(6, 13, 8)\n",
    "df = pd.DataFrame(x, columns = ['z', 'field', 'theta', 'phi', 'name', 't', 'x', 'y', 'r'])"
   ]
  },
  {
   "cell_type": "code",
   "execution_count": null,
   "metadata": {},
   "outputs": [],
   "source": [
    "e_solvernom = trajectory_solver.from_pickle(newdir+'50.0_1.346_0.256_0.054_nom.pkl')\n",
    "e_solverdis = trajectory_solver.from_pickle(newdir+'50.0_1.346_0.256_0.054_dis.pkl')\n",
    "\n",
    "e_solverdis.dataframe['pz'].values.mean() - e_solvernom.dataframe['pz'].values.mean()"
   ]
  },
  {
   "cell_type": "code",
   "execution_count": null,
   "metadata": {},
   "outputs": [],
   "source": [
    "e_solvernom.DataFrame"
   ]
  },
  {
   "cell_type": "code",
   "execution_count": null,
   "metadata": {},
   "outputs": [],
   "source": [
    "fig = plt.figure()\n",
    "x = e_solvernom.dataframe['x'].values\n",
    "y = e_solvernom.dataframe['y'].values\n",
    "plt.xlabel(\"x (meters)\")\n",
    "plt.ylabel(\"y (meters)\")\n",
    "plt.title('Y vs X for all Z')\n",
    "\n",
    "plt.scatter(x, y)"
   ]
  },
  {
   "cell_type": "code",
   "execution_count": null,
   "metadata": {},
   "outputs": [],
   "source": [
    "nomt_vals = e_solvernom.dataframe['t'].values[1000:4000]\n",
    "nompz = e_solvernom.dataframe['pz'].values[1000:4000]\n",
    "nomp = e_solvernom.dataframe['pz'].values[1000:4000]\n",
    "nompt = e_solvernom.dataframe['pT'].values[1000:4000]\n",
    "\n",
    "dist_vals = e_solverdis.dataframe['t'].values[1000:4000]\n",
    "dispz = e_solverdis.dataframe['pz'].values[1000:4000]\n",
    "disp = e_solverdis.dataframe['pz'].values[1000:4000]\n",
    "dispt = e_solverdis.dataframe['pT'].values[1000:4000]\n",
    "\n",
    "fig = plt.figure()\n",
    "\n",
    "plt.scatter(nomt_vals, nompz, c='r', marker='s', label='nompz')\n",
    "plt.scatter(dist_vals, dispz, c='b', marker='s', label='dispz')\n",
    "\n",
    "plt.scatter(nomt_vals, nompt, c='orange', marker='s', label='nompt')\n",
    "plt.scatter(dist_vals, dispt, c='purple', marker='s', label='dispt')\n",
    "\n",
    "plt.title(f'Pz vs Time 50.0_0.769_0.256_0.054')\n",
    "plt.legend(loc='upper right')\n",
    "plt.xlabel(\"Time (sec)\")\n",
    "plt.ylabel(\"Momentum (MeV)\")\n",
    "plt.show"
   ]
  },
  {
   "cell_type": "code",
   "execution_count": null,
   "metadata": {},
   "outputs": [],
   "source": [
    "e_solvernom2 = trajectory_solver.from_pickle(newdir+'50.0_0.064_0.256_0.054_nom.pkl')\n",
    "e_solverdis2 = trajectory_solver.from_pickle(newdir+'50.0_0.064_0.256_0.054_dis.pkl')\n",
    "\n",
    "e_solverdis.dataframe['pz'].values.mean() - e_solvernom.dataframe['pz'].values.mean()"
   ]
  },
  {
   "cell_type": "code",
   "execution_count": null,
   "metadata": {},
   "outputs": [],
   "source": [
    "fig = plt.figure()\n",
    "x = e_solvernom2.dataframe['x'].values\n",
    "y = e_solvernom2.dataframe['y'].values\n",
    "\n",
    "plt.scatter(x, y, c = e_solvernom2.dataframe['t'].values)"
   ]
  },
  {
   "cell_type": "code",
   "execution_count": null,
   "metadata": {},
   "outputs": [],
   "source": [
    "nomt_vals2 = e_solvernom2.dataframe['t'].values\n",
    "nompz2 = e_solvernom2.dataframe['pz'].values\n",
    "nomp2 = e_solvernom2.dataframe['pz'].values\n",
    "nompt2 = e_solvernom2.dataframe['pT'].values\n",
    "\n",
    "dist_vals2 = e_solverdis2.dataframe['t'].values\n",
    "dispz2 = e_solverdis2.dataframe['pz'].values\n",
    "disp2 = e_solverdis2.dataframe['pz'].values\n",
    "dispt2 = e_solverdis2.dataframe['pT'].values\n",
    "\n",
    "fig = plt.figure()\n",
    "\n",
    "plt.scatter(nomt_vals2, nompz2, c='r', marker='s', label='nompz')\n",
    "plt.scatter(dist_vals2, dispz2, c='b', marker='s', label='dispz')\n",
    "\n",
    "plt.scatter(nomt_vals2, nompt2, c='orange', marker='s', label='nompt')\n",
    "plt.scatter(dist_vals2, dispt2, c='purple', marker='s', label='dispt')\n",
    "\n",
    "plt.title(f'Pz vs Time 50.0_0.769_0.000_0.054')\n",
    "plt.legend(loc='upper right')\n",
    "plt.xlabel(\"Time (sec)\")\n",
    "plt.ylabel(\"Momentum (MeV)\")\n",
    "plt.show"
   ]
  },
  {
   "cell_type": "code",
   "execution_count": null,
   "metadata": {
    "scrolled": true
   },
   "outputs": [],
   "source": [
    "def gettimedifferences(phi, theta):\n",
    "    dfnew = df[(df['z']==13.0) & (np.isclose(df['theta'], theta, 1e-2)) & (df['field']==50.0) & (np.isclose(df['phi'], phi, 1e-2))] \n",
    "    dfnom = dfnew[dfnew['name']=='nom']\n",
    "    dfdis = dfnew[dfnew['name']=='dis']\n",
    "    return (dfnom['t'].values[0] - dfdis['t'].values[0])"
   ]
  },
  {
   "cell_type": "code",
   "execution_count": null,
   "metadata": {},
   "outputs": [],
   "source": [
    "np.unique(df['theta'])\n",
    "np.unique(df['field'])\n",
    "distances = []\n",
    "for phi in np.unique(df['phi']):\n",
    "    for theta in np.unique(df['theta'])[12:22]:\n",
    "        distances.append(gettimedifferences(phi, theta))"
   ]
  },
  {
   "cell_type": "code",
   "execution_count": null,
   "metadata": {
    "scrolled": true
   },
   "outputs": [],
   "source": [
    "print(np.unique(df['theta'])[12:22])\n",
    "print(np.unique(df['phi']))"
   ]
  },
  {
   "cell_type": "code",
   "execution_count": null,
   "metadata": {},
   "outputs": [],
   "source": [
    "np.mean(distances)"
   ]
  },
  {
   "cell_type": "code",
   "execution_count": null,
   "metadata": {},
   "outputs": [],
   "source": [
    "pos = []\n",
    "neg = []\n",
    "for distance in distances:\n",
    "    if distance > 0:\n",
    "        pos.append(distance)\n",
    "    if distance < 0:\n",
    "        neg.append(distance)\n",
    "len(pos)"
   ]
  },
  {
   "cell_type": "code",
   "execution_count": null,
   "metadata": {},
   "outputs": [],
   "source": [
    "def restructure(df, z, fieldval, thetaval):\n",
    "    olddf = df[(np.isclose(df['theta'], thetaval, 1e-3))&(df['field'] == fieldval)&(df['z']==z)]\n",
    "    \n",
    "    nomdata = []\n",
    "    disdata = []\n",
    "    uniquephi = np.unique(olddf['phi'])\n",
    "    uniquez = np.unique(df['z'])\n",
    "\n",
    "    for phi in uniquephi:\n",
    "        nomdf = olddf[(olddf['phi']==phi)&(olddf['name']=='nom')]\n",
    "        disdf = olddf[(olddf['phi']==phi)&(olddf['name']=='dis')]\n",
    "    \n",
    "        nomdata.append(nomdf.values.tolist())\n",
    "        disdata.append(disdf.values.tolist())\n",
    "        \n",
    "    #nomdata: zval, field, theta, phi, name, t, x, y, r\n",
    "    nomphis = []\n",
    "    nomxs = []\n",
    "    nomys = []\n",
    "    nomrs = []\n",
    "\n",
    "    disphis = []\n",
    "    disxs = []\n",
    "    disys = []\n",
    "    disrs = []\n",
    "\n",
    "    zval = nomdata[0][0][0]\n",
    "    fieldval = nomdata[0][0][1]\n",
    "    thetaval = nomdata[0][0][2]\n",
    "    \n",
    "    for i in range(0, len(nomdata), 1):\n",
    "        nomphis.append(nomdata[i][0][3])\n",
    "        nomxs.append(nomdata[i][0][6])\n",
    "        nomys.append(nomdata[i][0][7])\n",
    "        nomrs.append(nomdata[i][0][8])\n",
    "    \n",
    "        disphis.append(disdata[i][0][3])\n",
    "        disxs.append(disdata[i][0][6])\n",
    "        disys.append(disdata[i][0][7])\n",
    "        disrs.append(disdata[i][0][8])\n",
    "        \n",
    "    return (uniquez, zval, fieldval, thetaval, nomphis, nomxs, nomys, nomrs, disphis, disxs, disys, disrs)"
   ]
  },
  {
   "cell_type": "code",
   "execution_count": null,
   "metadata": {},
   "outputs": [],
   "source": [
    "uniquez, zval, fieldval, thetaval, nomphis, nomxs, nomys, nomrs, disphis, \\\n",
    "disxs, disys, disrs = restructure(df, 9, 50.0, 0.76936963)\n",
    "\n",
    "uniquez2, zval2, fieldval2, thetaval2, nomphis2, nomxs2, nomys2, nomrs2, disphis2, \\\n",
    "disxs2, disys2, disrs2 = restructure(df, 9, 5.0, 0.76936963)"
   ]
  },
  {
   "cell_type": "code",
   "execution_count": null,
   "metadata": {},
   "outputs": [],
   "source": [
    "fig1 = plt.figure()\n",
    "#plt.scatter(nomxs, nomys, c='b', marker='s', label='nom')\n",
    "plt.scatter(disxs, disys, c='r', marker='s', label='50 Gauss dis')\n",
    "\n",
    "plt.scatter(nomxs2, nomys2, c='b', marker='s', label='nom')\n",
    "plt.scatter(disxs2, disys2, c='g', marker='s', label='5 Gauss dis')\n",
    "\n",
    "plt.scatter(0, 0)\n",
    "plt.scatter(0.054094482, 0.03873037)\n",
    "\n",
    "plt.title(f'Y vs X for Nominal and Distorted Fields at Z = {zval}')\n",
    "plt.legend(loc='upper right')\n",
    "plt.xlabel(\"X (meters)\")\n",
    "plt.ylabel(\"Y (meters)\")"
   ]
  },
  {
   "cell_type": "code",
   "execution_count": null,
   "metadata": {},
   "outputs": [],
   "source": [
    "uniquez, zval, fieldval, thetaval, nomphis, nomxs, nomys, nomrs, disphis, \\\n",
    "disxs, disys, disrs = restructure(df, 12, 50.0, 0.76936963)\n",
    "\n",
    "uniquez2, zval2, fieldval2, thetaval2, nomphis2, nomxs2, nomys2, nomrs2, disphis2, \\\n",
    "disxs2, disys2, disrs2 = restructure(df, 12, 5.0, 0.76936963)"
   ]
  },
  {
   "cell_type": "code",
   "execution_count": null,
   "metadata": {
    "scrolled": false
   },
   "outputs": [],
   "source": [
    "fig2 = plt.figure()\n",
    "#plt.scatter(nomxs, nomys, c='b', marker='s', label='nom')\n",
    "plt.scatter(disxs, disys, c='r', marker='s', label='50 Gauss dis')\n",
    "\n",
    "plt.scatter(nomxs2, nomys2, c='b', marker='s', label='nom')\n",
    "plt.scatter(disxs2, disys2, c='g', marker='s', label='5 Gauss dis')\n",
    "\n",
    "plt.scatter(0, 0)\n",
    "plt.scatter(0.054094482, 0.03873037)\n",
    "\n",
    "plt.title(f'Y vs X for Nominal and Distorted Fields at Z = {zval}')\n",
    "plt.legend(loc='upper right')\n",
    "plt.xlabel(\"X (meters)\")\n",
    "plt.ylabel(\"Y (meters)\")"
   ]
  },
  {
   "cell_type": "code",
   "execution_count": null,
   "metadata": {},
   "outputs": [],
   "source": [
    "uniquez, zval, fieldval, thetaval, nomphis, nomxs, nomys, nomrs, disphis, \\\n",
    "disxs, disys, disrs = restructure(df, 12.0, 50.0, 1.346)\n",
    "\n",
    "uniquez2, zval2, fieldval2, thetaval2, nomphis2, nomxs2, nomys2, nomrs2, disphis2, \\\n",
    "disxs2, disys2, disrs2 = restructure(df, 12.0, 5.0, 1.346)\n",
    "\n",
    "fig2 = plt.figure()\n",
    "#plt.scatter(nomxs, nomys, c='b', marker='s', label='nom')\n",
    "plt.scatter(disxs, disys, c='r', marker='s', label='50 Gauss dis')\n",
    "\n",
    "plt.scatter(nomxs2, nomys2, c='b', marker='s', label='nom')\n",
    "plt.scatter(disxs2, disys2, c='g', marker='s', label='5 Gauss dis')\n",
    "\n",
    "plt.scatter(0, 0)\n",
    "plt.scatter(0.054094482, 0.03873037)\n",
    "\n",
    "plt.title(f'Y vs X for Nominal and Distorted Fields at Z = {zval}' )\n",
    "plt.legend(loc='upper right')\n",
    "plt.xlabel(\"X (meters)\")\n",
    "plt.ylabel(\"Y (meters)\")"
   ]
  },
  {
   "cell_type": "code",
   "execution_count": null,
   "metadata": {},
   "outputs": [],
   "source": [
    "uniquez, zval, fieldval, thetaval, nomphis, nomxs, nomys, nomrs, disphis, \\\n",
    "disxs, disys, disrs = restructure(df, 12.0, 50.0, 1.795)\n",
    "\n",
    "uniquez2, zval2, fieldval2, thetaval2, nomphis2, nomxs2, nomys2, nomrs2, disphis2, \\\n",
    "disxs2, disys2, disrs2 = restructure(df, 12.0, 5.0, 1.795)\n",
    "\n",
    "fig2 = plt.figure()\n",
    "#plt.scatter(nomxs, nomys, c='b', marker='s', label='nom')\n",
    "plt.scatter(disxs, disys, c='r', marker='s', label='50 Gauss dis')\n",
    "\n",
    "plt.scatter(nomxs2, nomys2, c='b', marker='s', label='nom')\n",
    "plt.scatter(disxs2, disys2, c='g', marker='s', label='5 Gauss dis')\n",
    "\n",
    "plt.scatter(0, 0)\n",
    "plt.scatter(0.054094482, 0.03873037)\n",
    "\n",
    "plt.title(f'Y vs X for Nominal and Distorted Fields at Z = {zval}' )\n",
    "plt.legend(loc='upper right')\n",
    "plt.xlabel(\"X (meters)\")\n",
    "plt.ylabel(\"Y (meters)\")"
   ]
  },
  {
   "cell_type": "code",
   "execution_count": null,
   "metadata": {},
   "outputs": [],
   "source": [
    "fig = plt.figure()\n",
    "ax = fig.add_subplot(111, projection = '3d')\n",
    "print(uniquez)\n",
    "for i in uniquez:\n",
    "    \n",
    "    uniquez, zval, fieldval, thetaval, nomphis, nomxs, nomys, nomrs, disphis, \\\n",
    "    disxs, disys, disrs = restructure(df, i, 50.0, 0.76936963)\n",
    "    \n",
    "    ax.scatter(nomxs, nomys, i, c='blue', label='nom')\n",
    "    ax.scatter(disxs, disys, i, c='red', label='50 Gauss dis')\n",
    "    \n",
    "    ax.scatter(0.054094482, 0.03873037, i, c = 'orange')\n",
    "    \n",
    "for i in uniquez:\n",
    "    \n",
    "    uniquez2, zval2, fieldval2, thetaval2, nomphis2, nomxs2, nomys2, nomrs2, disphis2, \\\n",
    "    disxs2, disys2, disrs2 = restructure(df, i, 5.0, 0.76936963)\n",
    "    \n",
    "    #ax.scatter(nomxs, nomys, i, c='black')\n",
    "    ax.scatter(disxs2, disys2, i, c='black', label='5 Gauss dis')\n",
    "\n",
    "fig.savefig(datadir+'plot.pdf')\n"
   ]
  },
  {
   "cell_type": "code",
   "execution_count": null,
   "metadata": {},
   "outputs": [],
   "source": []
  }
 ],
 "metadata": {
  "kernelspec": {
   "display_name": "Python [conda env:em_track]",
   "language": "python",
   "name": "conda-env-em_track-py"
  },
  "language_info": {
   "codemirror_mode": {
    "name": "ipython",
    "version": 3
   },
   "file_extension": ".py",
   "mimetype": "text/x-python",
   "name": "python",
   "nbconvert_exporter": "python",
   "pygments_lexer": "ipython3",
   "version": "3.8.3"
  }
 },
 "nbformat": 4,
 "nbformat_minor": 4
}

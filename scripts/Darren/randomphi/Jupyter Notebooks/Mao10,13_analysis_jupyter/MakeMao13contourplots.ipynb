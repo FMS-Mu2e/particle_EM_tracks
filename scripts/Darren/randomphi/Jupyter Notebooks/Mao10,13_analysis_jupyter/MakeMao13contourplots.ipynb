{
 "cells": [
  {
   "cell_type": "code",
   "execution_count": 49,
   "metadata": {},
   "outputs": [],
   "source": [
    "# import package\n",
    "# installed via pip\n",
    "from emtracks.particle import trajectory_solver # main solver object\n",
    "from emtracks.conversions import one_gev_c2_to_kg # conversion for q factor (transverse momentum estimate)\n",
    "from emtracks.tools import *#InitConds # initial conditions namedtuple\n",
    "from emtracks.mapinterp import get_df_interp_func  # factory function for creating Mu2e DS interpolation function\n",
    "from emtracks.Bdist import get_B_df_distorted\n",
    "from emtracks.interpolations import *\n",
    "import matplotlib.animation as animation\n",
    "import numpy as np\n",
    "from scipy.constants import c, elementary_charge\n",
    "import pandas as pd\n",
    "import pickle as pkl\n",
    "import matplotlib.mlab as mlab\n",
    "import matplotlib.pyplot as plt\n",
    "import math\n",
    "from mpl_toolkits.mplot3d import Axes3D\n",
    "plt.rcParams['figure.figsize'] = [24,16] # bigger figures\n",
    "from matplotlib import style\n",
    "style.use('fivethirtyeight')\n",
    "import os\n",
    "\n",
    "from joblib import Parallel, delayed\n",
    "import multiprocessing\n",
    "from tqdm.notebook import tqdm\n",
    "\n",
    "mao13mapdatadir = '/home/shared_data/Bmaps/Mau13/subtracted/'\n",
    "mao13mapsavedir = '/home/shared_data/mao10,mao13_analysis/data/mao13contourplots4/'"
   ]
  },
  {
   "cell_type": "code",
   "execution_count": 7,
   "metadata": {},
   "outputs": [],
   "source": [
    "def get_uniform_phi(N):\n",
    "    phis = np.linspace(0, 2*math.pi, N)\n",
    "    return phis\n",
    "\n",
    "def get_uniform_theta(N):\n",
    "    thetas = np.linspace(2.085, 2.24, N)\n",
    "    return thetas\n",
    "\n",
    "files = sorted(os.listdir(mao13mapdatadir))"
   ]
  },
  {
   "cell_type": "code",
   "execution_count": 22,
   "metadata": {},
   "outputs": [
    {
     "data": {
      "text/plain": [
       "'0.10xDS'"
      ]
     },
     "execution_count": 22,
     "metadata": {},
     "output_type": "execute_result"
    }
   ],
   "source": [
    "files[0][6:13]\n"
   ]
  },
  {
   "cell_type": "code",
   "execution_count": 24,
   "metadata": {},
   "outputs": [
    {
     "data": {
      "text/plain": [
       "['Mau13_1.00xDS_0.00xPS-TS_DSMap.p',\n",
       " 'Mau13_1.00xDS_0.10xPS-TS_DSMap.p',\n",
       " 'Mau13_1.00xDS_0.20xPS-TS_DSMap.p',\n",
       " 'Mau13_1.00xDS_0.30xPS-TS_DSMap.p',\n",
       " 'Mau13_1.00xDS_0.40xPS-TS_DSMap.p',\n",
       " 'Mau13_1.00xDS_0.50xPS-TS_DSMap.p',\n",
       " 'Mau13_1.00xDS_0.60xPS-TS_DSMap.p',\n",
       " 'Mau13_1.00xDS_0.70xPS-TS_DSMap.p',\n",
       " 'Mau13_1.00xDS_0.80xPS-TS_DSMap.p',\n",
       " 'Mau13_1.00xDS_0.90xPS-TS_DSMap.p',\n",
       " 'Mau13_1.00xDS_0.91xPS-TS_DSMap.p',\n",
       " 'Mau13_1.00xDS_0.92xPS-TS_DSMap.p',\n",
       " 'Mau13_1.00xDS_0.93xPS-TS_DSMap.p',\n",
       " 'Mau13_1.00xDS_0.94xPS-TS_DSMap.p',\n",
       " 'Mau13_1.00xDS_0.95xPS-TS_DSMap.p',\n",
       " 'Mau13_1.00xDS_0.96xPS-TS_DSMap.p',\n",
       " 'Mau13_1.00xDS_0.97xPS-TS_DSMap.p',\n",
       " 'Mau13_1.00xDS_0.98xPS-TS_DSMap.p',\n",
       " 'Mau13_1.00xDS_0.99xPS-TS_DSMap.p',\n",
       " 'Mau13_1.00xDS_1.00xPS-TS_DSMap.p',\n",
       " 'Mau13_1.00xDS_1.01xPS-TS_DSMap.p',\n",
       " 'Mau13_1.00xDS_1.02xPS-TS_DSMap.p',\n",
       " 'Mau13_1.00xDS_1.03xPS-TS_DSMap.p',\n",
       " 'Mau13_1.00xDS_1.04xPS-TS_DSMap.p',\n",
       " 'Mau13_1.00xDS_1.05xPS-TS_DSMap.p',\n",
       " 'Mau13_1.00xDS_1.06xPS-TS_DSMap.p',\n",
       " 'Mau13_1.00xDS_1.07xPS-TS_DSMap.p',\n",
       " 'Mau13_1.00xDS_1.08xPS-TS_DSMap.p',\n",
       " 'Mau13_1.00xDS_1.09xPS-TS_DSMap.p',\n",
       " 'Mau13_1.00xDS_1.10xPS-TS_DSMap.p']"
      ]
     },
     "execution_count": 24,
     "metadata": {},
     "output_type": "execute_result"
    }
   ],
   "source": [
    "files_new = []\n",
    "for file in files:\n",
    "    if file[6:13] == '1.00xDS':\n",
    "        files_new.append(file)\n",
    "files = files_new\n",
    "files"
   ]
  },
  {
   "cell_type": "code",
   "execution_count": 25,
   "metadata": {},
   "outputs": [],
   "source": [
    "def getDSfield(file):\n",
    "    return file.split('_')[1].split('x')[0]\n",
    "def getPSfield(file):\n",
    "    return file.split('_')[2].split('x')[0]\n",
    "\n",
    "def getfiles(files, PSfields, DSfields):\n",
    "    PSfieldsrounded = [round(num, 3) for num in PSfields]\n",
    "    DSfieldsrounded = [round(num, 3) for num in DSfields]\n",
    "    \n",
    "    filedata = []\n",
    "    for file in files:\n",
    "        if float(getDSfield(file)) in DSfieldsrounded:\n",
    "            if float(getPSfield(file)) in PSfieldsrounded:\n",
    "                filedata.append(file)\n",
    "    \n",
    "    return filedata\n",
    "\n",
    "filedata = getfiles(files, np.linspace(0.90, 1.10, 21), np.array([1.]))"
   ]
  },
  {
   "cell_type": "code",
   "execution_count": 28,
   "metadata": {},
   "outputs": [
    {
     "data": {
      "text/plain": [
       "['Mau13_1.00xDS_0.90xPS-TS_DSMap.p',\n",
       " 'Mau13_1.00xDS_0.91xPS-TS_DSMap.p',\n",
       " 'Mau13_1.00xDS_0.92xPS-TS_DSMap.p',\n",
       " 'Mau13_1.00xDS_0.93xPS-TS_DSMap.p',\n",
       " 'Mau13_1.00xDS_0.94xPS-TS_DSMap.p',\n",
       " 'Mau13_1.00xDS_0.95xPS-TS_DSMap.p',\n",
       " 'Mau13_1.00xDS_0.96xPS-TS_DSMap.p',\n",
       " 'Mau13_1.00xDS_0.97xPS-TS_DSMap.p',\n",
       " 'Mau13_1.00xDS_0.98xPS-TS_DSMap.p',\n",
       " 'Mau13_1.00xDS_0.99xPS-TS_DSMap.p',\n",
       " 'Mau13_1.00xDS_1.00xPS-TS_DSMap.p',\n",
       " 'Mau13_1.00xDS_1.01xPS-TS_DSMap.p',\n",
       " 'Mau13_1.00xDS_1.02xPS-TS_DSMap.p',\n",
       " 'Mau13_1.00xDS_1.03xPS-TS_DSMap.p',\n",
       " 'Mau13_1.00xDS_1.04xPS-TS_DSMap.p',\n",
       " 'Mau13_1.00xDS_1.05xPS-TS_DSMap.p',\n",
       " 'Mau13_1.00xDS_1.06xPS-TS_DSMap.p',\n",
       " 'Mau13_1.00xDS_1.07xPS-TS_DSMap.p',\n",
       " 'Mau13_1.00xDS_1.08xPS-TS_DSMap.p',\n",
       " 'Mau13_1.00xDS_1.09xPS-TS_DSMap.p',\n",
       " 'Mau13_1.00xDS_1.10xPS-TS_DSMap.p']"
      ]
     },
     "execution_count": 28,
     "metadata": {},
     "output_type": "execute_result"
    }
   ],
   "source": [
    "filedata"
   ]
  },
  {
   "cell_type": "code",
   "execution_count": 41,
   "metadata": {},
   "outputs": [],
   "source": [
    "def get_funcs(files): \n",
    "    data = {}\n",
    "    for file in files:\n",
    "        DS = getDSfield(file)\n",
    "        PS = getPSfield(file)\n",
    "        data.update({PS:get_df_interp_func(df = pd.read_pickle(mao13mapdatadir+'/'+file), gauss=False)})\n",
    "#         with open(mao13mapdatadir+'/'+file, 'rb') as pickle_file:\n",
    "#             data.update({PS:get_df_interp_func(df = pkl.load(pickle_file), gauss=False)})\n",
    "    return data"
   ]
  },
  {
   "cell_type": "code",
   "execution_count": 42,
   "metadata": {},
   "outputs": [
    {
     "data": {
      "text/plain": [
       "{'0.90': <function emtracks.mapinterp.get_df_interp_func.<locals>.interp(p_vec)>,\n",
       " '0.91': <function emtracks.mapinterp.get_df_interp_func.<locals>.interp(p_vec)>,\n",
       " '0.92': <function emtracks.mapinterp.get_df_interp_func.<locals>.interp(p_vec)>,\n",
       " '0.93': <function emtracks.mapinterp.get_df_interp_func.<locals>.interp(p_vec)>,\n",
       " '0.94': <function emtracks.mapinterp.get_df_interp_func.<locals>.interp(p_vec)>,\n",
       " '0.95': <function emtracks.mapinterp.get_df_interp_func.<locals>.interp(p_vec)>,\n",
       " '0.96': <function emtracks.mapinterp.get_df_interp_func.<locals>.interp(p_vec)>,\n",
       " '0.97': <function emtracks.mapinterp.get_df_interp_func.<locals>.interp(p_vec)>,\n",
       " '0.98': <function emtracks.mapinterp.get_df_interp_func.<locals>.interp(p_vec)>,\n",
       " '0.99': <function emtracks.mapinterp.get_df_interp_func.<locals>.interp(p_vec)>,\n",
       " '1.00': <function emtracks.mapinterp.get_df_interp_func.<locals>.interp(p_vec)>,\n",
       " '1.01': <function emtracks.mapinterp.get_df_interp_func.<locals>.interp(p_vec)>,\n",
       " '1.02': <function emtracks.mapinterp.get_df_interp_func.<locals>.interp(p_vec)>,\n",
       " '1.03': <function emtracks.mapinterp.get_df_interp_func.<locals>.interp(p_vec)>,\n",
       " '1.04': <function emtracks.mapinterp.get_df_interp_func.<locals>.interp(p_vec)>,\n",
       " '1.05': <function emtracks.mapinterp.get_df_interp_func.<locals>.interp(p_vec)>,\n",
       " '1.06': <function emtracks.mapinterp.get_df_interp_func.<locals>.interp(p_vec)>,\n",
       " '1.07': <function emtracks.mapinterp.get_df_interp_func.<locals>.interp(p_vec)>,\n",
       " '1.08': <function emtracks.mapinterp.get_df_interp_func.<locals>.interp(p_vec)>,\n",
       " '1.09': <function emtracks.mapinterp.get_df_interp_func.<locals>.interp(p_vec)>,\n",
       " '1.10': <function emtracks.mapinterp.get_df_interp_func.<locals>.interp(p_vec)>}"
      ]
     },
     "execution_count": 42,
     "metadata": {},
     "output_type": "execute_result"
    }
   ],
   "source": [
    "data = get_funcs(filedata)\n",
    "data"
   ]
  },
  {
   "cell_type": "code",
   "execution_count": 45,
   "metadata": {},
   "outputs": [],
   "source": [
    "def run_solver(phi, theta, field, fielddescrip, N_calc, xnaught, ynaught, znaught):\n",
    "    ic_Mu2e = InitConds(t0=0., tf=2e-7, N_t=N_calc,\n",
    "                    x0=xnaught, y0=ynaught, z0=znaught,\n",
    "                    p0=104.96, theta0=theta, phi0=phi)\n",
    "    e_solver = trajectory_solver(ic_Mu2e, B_func=field, bounds=bounds_Mu2e)\n",
    "    sol = e_solver.solve_trajectory(verbose = False, atol=1e-10, rtol=1e-10)\n",
    "    e_solver.dataframe['r'] = ((e_solver.dataframe['x'])**2 + (e_solver.dataframe['y'])**2)**(1/2)\n",
    "    e_solver.dataframe['rfromcenter'] = ((e_solver.dataframe['x'])**2 + (e_solver.dataframe['y'])**2)**(1/2)\n",
    "    filename = f'{fielddescrip}_{ic_Mu2e.theta0:0.3f}_{ic_Mu2e.phi0:0.3f}_{ic_Mu2e.x0:0.3f}_.pkl'\n",
    "    e_solver.to_pickle(mao13mapsavedir+filename)   "
   ]
  },
  {
   "cell_type": "code",
   "execution_count": 46,
   "metadata": {},
   "outputs": [],
   "source": [
    "def runbothsolvers(phi, theta, fielddata, N_calc, xnaught, ynaught, znaught):\n",
    "    keys = list(fielddata.keys())\n",
    "    values = list(fielddata.values())\n",
    "        \n",
    "    for i in range(0, len(keys), 1):\n",
    "        run_solver(phi, theta, values[i], str(keys[i]), N_calc, xnaught, ynaught, znaught)"
   ]
  },
  {
   "cell_type": "code",
   "execution_count": 47,
   "metadata": {},
   "outputs": [],
   "source": [
    "def savepickle(N, files, ncalc = 10001):\n",
    "    phis = get_uniform_phi(N)\n",
    "    thetas = get_uniform_theta(N)\n",
    "    data = get_funcs(files)\n",
    "    \n",
    "    numcpu = multiprocessing.cpu_count()\n",
    "    Parallel(n_jobs = numcpu)(delayed(runbothsolvers)(phi, theta, data, ncalc, 0.054094482, 0.03873037, 5.988900879) for theta in tqdm(thetas, desc = 'theta') for phi in phis)\n"
   ]
  },
  {
   "cell_type": "code",
   "execution_count": 51,
   "metadata": {
    "scrolled": false
   },
   "outputs": [
    {
     "data": {
      "application/vnd.jupyter.widget-view+json": {
       "model_id": "6bea018e02d949f18171990d463f0948",
       "version_major": 2,
       "version_minor": 0
      },
      "text/plain": [
       "HBox(children=(FloatProgress(value=0.0, description='theta', max=50.0, style=ProgressStyle(description_width='…"
      ]
     },
     "metadata": {},
     "output_type": "display_data"
    },
    {
     "name": "stdout",
     "output_type": "stream",
     "text": [
      "\n"
     ]
    }
   ],
   "source": [
    "savepickle(50, filedata)"
   ]
  },
  {
   "cell_type": "code",
   "execution_count": null,
   "metadata": {},
   "outputs": [],
   "source": [
    "save plots"
   ]
  }
 ],
 "metadata": {
  "kernelspec": {
   "display_name": "Python [conda env:em_track]",
   "language": "python",
   "name": "conda-env-em_track-py"
  },
  "language_info": {
   "codemirror_mode": {
    "name": "ipython",
    "version": 3
   },
   "file_extension": ".py",
   "mimetype": "text/x-python",
   "name": "python",
   "nbconvert_exporter": "python",
   "pygments_lexer": "ipython3",
   "version": "3.8.3"
  }
 },
 "nbformat": 4,
 "nbformat_minor": 4
}

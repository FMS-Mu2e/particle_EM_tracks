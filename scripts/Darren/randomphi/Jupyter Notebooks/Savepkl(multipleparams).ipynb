{
 "cells": [
  {
   "cell_type": "code",
   "execution_count": 28,
   "metadata": {},
   "outputs": [],
   "source": [
    "# import package\n",
    "# installed via pip\n",
    "from emtracks.particle import trajectory_solver # main solver object\n",
    "from emtracks.conversions import one_gev_c2_to_kg # conversion for q factor (transverse momentum estimate)\n",
    "from emtracks.tools import *#InitConds # initial conditions namedtuple\n",
    "from emtracks.mapinterp import get_df_interp_func  # factory function for creating Mu2e DS interpolation function\n",
    "from emtracks.Bdist import get_B_df_distorted\n",
    "import matplotlib.animation as animation\n",
    "import numpy as np\n",
    "from scipy.constants import c, elementary_charge\n",
    "import pandas as pd\n",
    "import pickle as pkl\n",
    "import matplotlib.mlab as mlab\n",
    "import matplotlib.pyplot as plt\n",
    "import math\n",
    "from mpl_toolkits.mplot3d import Axes3D\n",
    "plt.rcParams['figure.figsize'] = [24,16] # bigger figures\n",
    "from matplotlib import style\n",
    "style.use('fivethirtyeight')\n",
    "import os\n",
    "\n",
    "from joblib import Parallel, delayed\n",
    "import multiprocessing\n",
    "from tqdm.notebook import tqdm\n",
    "\n",
    "\n",
    "testdir = \"/home/darren/Desktop/plots/\"\n",
    "datadir = \"/home/shared_data/\"\n",
    "plotdir = datadir+\"plots/randomphi/\"\n",
    "mapdir = datadir+\"Bmaps/\"\n",
    "date = \"/6-20/\"\n",
    "newdir = datadir+'test4/'"
   ]
  },
  {
   "cell_type": "code",
   "execution_count": 2,
   "metadata": {},
   "outputs": [],
   "source": [
    "def get_uniform_phi(N):\n",
    "    phis = np.linspace(0, 2*math.pi, N)\n",
    "    return phis\n",
    "\n",
    "def get_uniform_theta(N):\n",
    "    thetas = np.linspace(0, math.pi, N)\n",
    "    return thetas"
   ]
  },
  {
   "cell_type": "code",
   "execution_count": 3,
   "metadata": {},
   "outputs": [],
   "source": [
    "def get_b_dis(start_point, end_point, initial_B_list, final_B):\n",
    "    dflist = []\n",
    "    objlist = []\n",
    "    for i in initial_B_list:\n",
    "        df_Mu2e = pd.read_pickle(mapdir+\"Mu2e_DSMap_V13.p\")\n",
    "        B_Mu2e_func = get_df_interp_func(mapdir+\"Mu2e_DSMap_V13.p\", gauss=False)\n",
    "\n",
    "        df_Mu2e_dis = get_B_df_distorted(df_Mu2e, v=\"0\", Bz0 = i, Bzf = 0, z0 = start_point, zf = end_point)\n",
    "        B_Mu2e_dis = get_df_interp_func(df=df_Mu2e_dis, gauss=False)\n",
    "        \n",
    "        dflist.append([df_Mu2e, df_Mu2e_dis, i])\n",
    "        objlist.append([B_Mu2e_func, B_Mu2e_dis, i])\n",
    "    return (objlist)"
   ]
  },
  {
   "cell_type": "code",
   "execution_count": 29,
   "metadata": {},
   "outputs": [],
   "source": [
    "def run_solver(phi, theta, field, fielddescrip, N_calc, xnaught, ynaught, znaught, name):\n",
    "    ic_Mu2e = InitConds(t0=0., tf=4e-8, N_t=N_calc,\n",
    "                    x0=xnaught, y0=ynaught, z0=znaught,\n",
    "                    p0=104.96, theta0=theta, phi0=phi)\n",
    "    e_solver = trajectory_solver(ic_Mu2e, B_func=field, bounds=bounds_Mu2e)\n",
    "    sol = e_solver.solve_trajectory(verbose = False, atol=1e-10, rtol=1e-10)\n",
    "    e_solver.dataframe['r'] = ((e_solver.dataframe['x'])**2 + (e_solver.dataframe['y'])**2)**(1/2)\n",
    "    e_solver.dataframe['rfromcenter'] = ((e_solver.dataframe['x'])**2 + (e_solver.dataframe['y'])**2)**(1/2)\n",
    "    filename = f'{fielddescrip}_{ic_Mu2e.theta0:0.3f}_{ic_Mu2e.phi0:0.3f}_{ic_Mu2e.x0:0.3f}_{name}.pkl'\n",
    "    e_solver.to_pickle(newdir+filename)    "
   ]
  },
  {
   "cell_type": "code",
   "execution_count": 30,
   "metadata": {},
   "outputs": [],
   "source": [
    "def runbothsolvers(phi, theta, field, N_calc, xnaught, ynaught, znaught):\n",
    "    run_solver(phi, theta, field[0], field[2], N_calc, xnaught, ynaught, znaught, 'nom') #second argument is how many steps in numerical integration\n",
    "    run_solver(phi, theta, field[1], field[2], N_calc, xnaught, ynaught, znaught, 'dis') #second argument is how many steps in numerical integration"
   ]
  },
  {
   "cell_type": "code",
   "execution_count": 33,
   "metadata": {},
   "outputs": [],
   "source": [
    "def savepickle(N, fieldvals, ncalc = 20001):\n",
    "    phis = get_uniform_phi(N)\n",
    "    thetas = get_uniform_theta(N)\n",
    "    fields = get_b_dis(3, 14, fieldvals, 0)\n",
    "    numcpu = multiprocessing.cpu_count()\n",
    "    \n",
    "    Parallel(n_jobs = numcpu)(delayed(runbothsolvers)(phi, theta, field, ncalc, 0.054094482, 0.03873037, 5.988900879) for theta in tqdm(thetas, desc = 'theta') for field in fields for phi in phis)\n"
   ]
  },
  {
   "cell_type": "code",
   "execution_count": 34,
   "metadata": {},
   "outputs": [
    {
     "data": {
      "application/vnd.jupyter.widget-view+json": {
       "model_id": "1d592754136043e59df31d41b8b37b83",
       "version_major": 2,
       "version_minor": 0
      },
      "text/plain": [
       "HBox(children=(FloatProgress(value=0.0, description='theta', max=50.0, style=ProgressStyle(description_width='…"
      ]
     },
     "metadata": {},
     "output_type": "display_data"
    },
    {
     "name": "stdout",
     "output_type": "stream",
     "text": [
      "\n"
     ]
    }
   ],
   "source": [
    "savepickle(50, [3.0, 5.0, 50.0], 10001)"
   ]
  },
  {
   "cell_type": "code",
   "execution_count": 11,
   "metadata": {},
   "outputs": [
    {
     "data": {
      "text/plain": [
       "64"
      ]
     },
     "execution_count": 11,
     "metadata": {},
     "output_type": "execute_result"
    }
   ],
   "source": [
    "cpu_count = multiprocessing.cpu_count()"
   ]
  },
  {
   "cell_type": "code",
   "execution_count": null,
   "metadata": {},
   "outputs": [],
   "source": [
    "def myfunction(index):\n",
    "    return index\n",
    "\n"
   ]
  }
 ],
 "metadata": {
  "kernelspec": {
   "display_name": "Python [conda env:em_track]",
   "language": "python",
   "name": "conda-env-em_track-py"
  },
  "language_info": {
   "codemirror_mode": {
    "name": "ipython",
    "version": 3
   },
   "file_extension": ".py",
   "mimetype": "text/x-python",
   "name": "python",
   "nbconvert_exporter": "python",
   "pygments_lexer": "ipython3",
   "version": "3.6.10"
  }
 },
 "nbformat": 4,
 "nbformat_minor": 4
}

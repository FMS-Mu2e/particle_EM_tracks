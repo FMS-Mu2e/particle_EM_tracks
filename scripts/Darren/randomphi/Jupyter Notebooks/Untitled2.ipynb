{
 "cells": [
  {
   "cell_type": "code",
   "execution_count": 1,
   "metadata": {},
   "outputs": [
    {
     "name": "stdout",
     "output_type": "stream",
     "text": [
      "ERROR! Please set $EMTRACKS_DDIR and $EMTRACKS_PDIR. Setting defaults (current directory)\n"
     ]
    }
   ],
   "source": [
    "# import package\n",
    "# installed via pip\n",
    "from emtracks.particle import trajectory_solver # main solver object\n",
    "from emtracks.conversions import one_gev_c2_to_kg # conversion for q factor (transverse momentum estimate)\n",
    "from emtracks.tools import *#InitConds # initial conditions namedtuple\n",
    "from emtracks.mapinterp import get_df_interp_func  # factory function for creating Mu2e DS interpolation function\n",
    "from emtracks.Bdist import get_B_df_distorted\n",
    "import matplotlib.animation as animation\n",
    "import numpy as np\n",
    "from scipy.constants import c, elementary_charge\n",
    "import pandas as pd\n",
    "import pickle as pkl\n",
    "import matplotlib.mlab as mlab\n",
    "import matplotlib.pyplot as plt\n",
    "import math\n",
    "from mpl_toolkits.mplot3d import Axes3D\n",
    "plt.rcParams['figure.figsize'] = [24,16] # bigger figures\n",
    "from matplotlib import style\n",
    "style.use('fivethirtyeight')\n",
    "import os\n",
    "\n",
    "testdir = \"/home/darren/Desktop/plots/\"\n",
    "datadir = \"/home/shared_data/\"\n",
    "plotdir = datadir+\"plots/randomphi/\"\n",
    "mapdir = datadir+\"Bmaps/\"\n",
    "date = \"/6-20/\"\n",
    "newdir = datadir+'test2/'"
   ]
  },
  {
   "cell_type": "code",
   "execution_count": 2,
   "metadata": {},
   "outputs": [],
   "source": [
    "def find_track_at_z(df, z): \n",
    "    delta = (df.z.max() - df.z.min()) / len(df.z)\n",
    "    #delta = 10/4001   #approximate z range divided by number of points\n",
    "    mask = (df['z'] < z + delta) & (df['z'] > z - delta)\n",
    "    \n",
    "    while (len(df.z[mask]) > 2):\n",
    "        delta = delta / 2\n",
    "        mask = (df.z < z + delta) & (df.z > z - delta)\n",
    "    while (len(df.z[mask]) == 0):\n",
    "        delta = delta*2\n",
    "        mask = (df.z < z + delta) & (df.z > z - delta)\n",
    "    \n",
    "    if len(df.z[mask]) == 1:\n",
    "        df2 = df.loc[mask]\n",
    "        df2 = df2.apply(pd.to_numeric)\n",
    "        return ([df2.iloc[0]['x'], df2.iloc[0]['y'], df2.iloc[0]['z'], df2.iloc[0]['t'], df2.iloc[0]['r']])\n",
    "\n",
    "    if len(df.z[mask]) == 2:\n",
    "        df2 = df.loc[mask]\n",
    "        df2 = df2.apply(pd.to_numeric)\n",
    "\n",
    "        x1 = df2.iloc[0]['x']\n",
    "        x2 = df2.iloc[1]['x']\n",
    "        y1 = df2.iloc[0]['y']\n",
    "        y2 = df2.iloc[1]['y']\n",
    "        t1 = df2.iloc[0]['t']\n",
    "        t2 = df2.iloc[1]['t']\n",
    "        z1 = df2.iloc[0]['z']\n",
    "        z2 = df2.iloc[1]['z']\n",
    "\n",
    "        xslope = (x2-x1)/(z2-z1)\n",
    "        yslope = (y2-y1)/(z2-z1)\n",
    "        tslope = (t2-t1)/(z2-z1)\n",
    "\n",
    "        xinterp = x2 - ((z2-z)*(xslope))\n",
    "        yinterp = y2 - ((z2-z)*(yslope))\n",
    "        tinterp = t2 - ((z2-z)*(tslope))\n",
    "        rinterp = (xinterp**2 + yinterp**2)**(1/2)\n",
    "\n",
    "        return (xinterp, yinterp, z, tinterp, rinterp)"
   ]
  },
  {
   "cell_type": "code",
   "execution_count": 3,
   "metadata": {},
   "outputs": [],
   "source": [
    "def readpkl():\n",
    "    files = sorted(os.listdir(newdir))\n",
    "\n",
    "    fieldnom = []\n",
    "    fielddis = []\n",
    "\n",
    "    thetanom = []\n",
    "    thetadis = []\n",
    "\n",
    "    phinom = []\n",
    "    phidis = []\n",
    "\n",
    "    nomdata = []\n",
    "    disdata = []\n",
    "\n",
    "    for file in files:\n",
    "        if file.endswith('nom.pkl'):\n",
    "            e_solvernom = trajectory_solver.from_pickle(newdir+file)\n",
    "            fieldnom.append(file.split('_')[0])\n",
    "            thetanom.append(e_solvernom.init_conds.theta0)\n",
    "            phinom.append(e_solvernom.init_conds.phi0)\n",
    "            nomdata.append(e_solvernom.dataframe)\n",
    "\n",
    "        if file.endswith('dis.pkl'):\n",
    "            e_solverdis = trajectory_solver.from_pickle(newdir+file)\n",
    "            fielddis.append(file.split('_')[0])\n",
    "            thetadis.append(e_solverdis.init_conds.theta0)\n",
    "            phidis.append(e_solverdis.init_conds.phi0)\n",
    "            disdata.append(e_solverdis.dataframe)\n",
    "            \n",
    "    if fieldnom == fielddis:\n",
    "        if thetanom == thetadis:\n",
    "            if phinom == phidis:\n",
    "                field = fieldnom\n",
    "                theta = thetanom\n",
    "                phi = phinom\n",
    "                return [field, theta, phi, nomdata, disdata]\n",
    "    \n",
    "    return ('something is wrong')"
   ]
  },
  {
   "cell_type": "code",
   "execution_count": 4,
   "metadata": {},
   "outputs": [],
   "source": [
    "field, theta, phi, nomdata, disdata = readpkl()"
   ]
  },
  {
   "cell_type": "code",
   "execution_count": 5,
   "metadata": {},
   "outputs": [],
   "source": [
    "def SeparateB(field, theta, phi, nomdata, disdata):\n",
    "    uniquevals = np.unique(field)\n",
    "    x = []\n",
    "    for i in range(0, len(uniquevals), 1): #loop through all the unique field vals\n",
    "        templist = []\n",
    "        for j in range(0, len(field), 1): #separate all info into categories with same fieldval\n",
    "            if field[j] == uniquevals[i]:\n",
    "                templist.append([theta[j], phi[j], nomdata[j], disdata[j]])\n",
    "        x.append(templist)  \n",
    "        \n",
    "    return [uniquevals, x]"
   ]
  },
  {
   "cell_type": "code",
   "execution_count": 1,
   "metadata": {},
   "outputs": [],
   "source": [
    "def Separate2B(x, field, theta, phi, nomdata, disdata):\n",
    "    uniquetheta = np.unique(theta)\n",
    "    uniquephi = np.unique(phi)\n",
    "    y = []\n",
    "    \n",
    "    for i in range(0, len(x[1]), 1): #loop through all unique vals\n",
    "        templist1 = []\n",
    "        for k in range(0, len(uniquetheta), 1): #0-N (theta)\n",
    "            templist2 = []\n",
    "            for j in range(0, len(x[1][i]), 1): \n",
    "                if uniquetheta[k] == x[1][i][j][0]:\n",
    "                    templist2.append([x[0][i], theta[j], phi[j], x[1][i][2], x[1][i][3]])\n",
    "            templist1.append(templist2)\n",
    "        y.append(templist1)\n",
    "    \n",
    "    return y"
   ]
  },
  {
   "cell_type": "code",
   "execution_count": 7,
   "metadata": {},
   "outputs": [],
   "source": [
    "def SeparateTheta(field, theta, phi, nomdata, disdata):\n",
    "    uniquevals = np.unique(theta)\n",
    "    x = []\n",
    "    for i in range(0, len(uniquevals), 1): #loop through all the unique field vals\n",
    "        templist = []\n",
    "        for j in range(0, len(theta), 1): #separate all info into categories with same fieldval\n",
    "            if theta[j] == uniquevals[i]:\n",
    "                templist.append([field[j], phi[j], nomdata[j], disdata[j]])\n",
    "        x.append(templist)  \n",
    "        \n",
    "    return [uniquevals, x]"
   ]
  },
  {
   "cell_type": "code",
   "execution_count": 8,
   "metadata": {},
   "outputs": [],
   "source": [
    "def SeparatePhi(field, theta, phi, nomdata, disdata):\n",
    "    uniquevals = np.unique(phi)\n",
    "    x = []\n",
    "    for i in range(0, len(uniquevals), 1): #loop through all the unique field vals\n",
    "        templist = []\n",
    "        for j in range(0, len(phi), 1): #separate all info into categories with same fieldval\n",
    "            if phi[j] == uniquevals[i]:\n",
    "                templist.append([field[j], phi[j], nomdata[j], disdata[j]])\n",
    "        x.append(templist)  \n",
    "    \n",
    "    return [uniquevals, x]"
   ]
  },
  {
   "cell_type": "code",
   "execution_count": 9,
   "metadata": {},
   "outputs": [],
   "source": [
    "x = SeparateB(field, theta, phi, nomdata, disdata)\n",
    "y = SeparatePhi(field, theta, phi, nomdata, disdata)\n",
    "z = SeparateTheta(field, theta, phi, nomdata, disdata)"
   ]
  },
  {
   "cell_type": "code",
   "execution_count": 27,
   "metadata": {},
   "outputs": [
    {
     "data": {
      "text/plain": [
       "'5.0'"
      ]
     },
     "execution_count": 27,
     "metadata": {},
     "output_type": "execute_result"
    }
   ],
   "source": [
    "x[0][1]"
   ]
  },
  {
   "cell_type": "code",
   "execution_count": 39,
   "metadata": {},
   "outputs": [],
   "source": [
    "e = Separate2B(x, field, theta, phi, nomdata, disdata)"
   ]
  },
  {
   "cell_type": "code",
   "execution_count": 40,
   "metadata": {
    "scrolled": false
   },
   "outputs": [
    {
     "data": {
      "text/plain": [
       "5"
      ]
     },
     "execution_count": 40,
     "metadata": {},
     "output_type": "execute_result"
    }
   ],
   "source": [
    "len(e[0][0][0]) #fieldval, thetaval, unique phi val"
   ]
  },
  {
   "cell_type": "code",
   "execution_count": 41,
   "metadata": {},
   "outputs": [
    {
     "data": {
      "text/plain": [
       "5"
      ]
     },
     "execution_count": 41,
     "metadata": {},
     "output_type": "execute_result"
    }
   ],
   "source": [
    "len(e[0][0]) #5 different phi vals and their unique data"
   ]
  },
  {
   "cell_type": "code",
   "execution_count": null,
   "metadata": {},
   "outputs": [],
   "source": []
  }
 ],
 "metadata": {
  "kernelspec": {
   "display_name": "Python [conda env:em_track]",
   "language": "python",
   "name": "conda-env-em_track-py"
  },
  "language_info": {
   "codemirror_mode": {
    "name": "ipython",
    "version": 3
   },
   "file_extension": ".py",
   "mimetype": "text/x-python",
   "name": "python",
   "nbconvert_exporter": "python",
   "pygments_lexer": "ipython3",
   "version": "3.6.10"
  }
 },
 "nbformat": 4,
 "nbformat_minor": 4
}
